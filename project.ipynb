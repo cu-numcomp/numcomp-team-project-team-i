{
 "cells": [
  {
   "cell_type": "markdown",
   "metadata": {},
   "source": [
    "# Project: **Richardson Extrapolation** in **numdifftools**\n",
    "\n",
    "## Group members\n",
    "* Darrien Lee\n",
    "* Peter Minwegen\n",
    "* Nicholas Palmer\n",
    "* Benji Goldstein\n",
    "\n",
    "This notebook is a blank slate for you to write in.  Feel free to include figures (don't forget to add/commit them to your repository) and examples.  You can change the kernel (from `Python 3`; see upper right) if the open source project you're writing about does not use Python.  You can write from the prompts below or delete all the cells and start fresh.  Note that Git will always contain your history.\n",
    "\n",
    "You can run shell commands:"
   ]
  },
  {
   "cell_type": "code",
   "execution_count": 2,
   "metadata": {},
   "outputs": [],
   "source": [
    "%matplotlib inline\n",
    "import numpy as np\n",
    "import matplotlib.pyplot as plt\n",
    "import numdifftools as nd"
   ]
  },
  {
   "cell_type": "markdown",
   "metadata": {},
   "source": [
    "Note that some of the content for this section was used from Nicholas Palmer's individual project on Richardson Extrapolation, and that all of the content of this notebook is solely the work of the group members listed above.\n",
    "\n",
    "## Introduction\n",
    "\n",
    "Describe the objective of your study, citing prior work as appropriate (papers, websites, etc.).  There is no requirement on citation style, but please try to be consistent.\n",
    "\n",
    "The objective of the study for this project is to \"break\" the numdiftools software by violating some assumptions on the inputs for the software, as well as attempting to violate the assumptions of the Richardson Extrapolation method. In this section we will describe the Richardson Extrapolation method and how it is useful for numerical differentiation. Then in the following sections we will describe the methodology for performing these tests and studies, how that affects usability and usefulness of numdiftools for the average user, any conclusions as a result of the study, and finally any open questions at the end of the study.  \n",
    "\n",
    "Richardson extrapolation can be used to obtain high numerical accuracy by taking the linear combination of successive approximations of numerical derivatives. This method is described below: \n",
    "\n",
    "We can calculate the derivative of a function $f(x)$ by using the centered limit definition of the derivative:\n",
    "\n",
    "$$f'(x) = \\lim_{h \\rightarrow 0} \\frac{f(x + h) - f(x - h)}{2h}$$\n",
    "\n",
    "Where $h$ is the step size. This, of course, assumes that we can make $h$ arbitrarily small. However, numerically this is impossible, as computers have a limit on the range of numbers that they can represent. Therefore, using this method, we can only represent values of $h$ that are as small as $\\epsilon_{machine}$. Therefore, since we must use representable step sizes for $h$, we can rework the above definition to include an error term: \n",
    "\n",
    "$$f'(x) = \\frac{f(x + h) - f(x - h)}{2h} + O(h^2)$$\n",
    "\n",
    "From this we can see that the error term is on the order of $h^2$. From this, it must seem that when we reduce $h$ by half, we should reduce the error by a factor of 4. Let us see how this works in practice below. "
   ]
  },
  {
   "cell_type": "code",
   "execution_count": 4,
   "metadata": {},
   "outputs": [
    {
     "data": {
      "image/png": "[encoded data removed]",
      "text/plain": [
       "<Figure size 432x288 with 1 Axes>"
      ]
     },
     "metadata": {
      "needs_background": "light"
     },
     "output_type": "display_data"
    }
   ],
   "source": [
    "#Note that this code was taken from the 4/7 in class activity for illustrative purposes\n",
    "#Slight modifications were made\n",
    "def compute_errors(diff, f, fp, x=np.linspace(-4, 4)):\n",
    "    hs = np.geomspace(1e-15, 1, 16)\n",
    "    errors = [np.linalg.norm(diff(f, x, h) - fp(x), np.inf) for h in hs]\n",
    "    return hs, errors\n",
    "\n",
    "\n",
    "def diff2(f, x, h):\n",
    "    return (f(x + h) - f(x - h)) / (2*h)\n",
    "\n",
    "hs, errors = compute_errors(diff2, np.sin, np.cos)\n",
    "\n",
    "plt.loglog(hs, errors, 'o', label='num diff')\n",
    "plt.xlabel('$h$')\n",
    "plt.ylabel('max error')\n",
    "plt.ylim(1e-12, 1)\n",
    "plt.legend();"
   ]
  },
  {
   "cell_type": "markdown",
   "metadata": {},
   "source": [
    "The main reason that we see this type of behavior is due to subtractive cancellation. Subtractive cancellation is the error that is introduced by subtracting two values with finite accuracy that are very close to each other. Recall the original function for computing the derivative of a function:\n",
    "\n",
    "$$f'(x) = \\frac{f(x + h) - f(x - h)}{2h} + O(h^2)$$\n",
    "\n",
    "As $h$ gets smaller and smaller, the values of $f(x + h)$ and $f(x - h)$ successively get closer together. Because the calculation for $f(x)$ has finite accuracy, we begin to require greater and greater accuracy in our calculation of $f(x)$ to avoid this subtractive cancellation error. We can see this in action below. \n",
    "\n",
    "Suppose we want to calculate $f(x + h) - f(x)$ with 10 digits of accuracy. If $h = 0.00001$, $x = 1$, and $f(x) = sin(x)$, we need 15 digits of accuracy when calculating $sin(1.01)$, since the first 5 digits of the calculation cancel to zero. \n",
    "\n",
    "$$\\frac{sin(1.00001) - sin(1)}{0.1}$$\n",
    "\n",
    "Doing the calculations we get the following: \n",
    "\n",
    "$$\n",
    "\\begin{align*}\n",
    "&0.841476387788881\\\\   \n",
    "-\\phantom{y=}&&\\\\    \n",
    "&0.841470984807896\\\\\\hline   \n",
    "&0.000005402980985    \n",
    "\\end{align*}\n",
    "$$\n",
    "\n",
    "So, from this we can see that when $h$ get sufficiently small, we begin to get subtractive cancellation due to the finite accuracy of our calculation of $f(x)$.\n",
    "\n",
    "<hr>\n",
    "\n",
    "We can again rework the above definition to see that the error is proportional to $h^2$.\n",
    "\n",
    "$$f'(x) \\approx \\frac{f(x + h) - f(x - h)}{2h} + Ch^2$$\n",
    "\n",
    "Now we can see that the error in the above term is proportional to some constant C. For the sake of syntactical simplicity, let us define the centered differentiation of a function $f$ at a point $x$ with step size $h$ as follows: \n",
    "\n",
    "$$D(f, x, h) = \\frac{f(x + h) - f(x - h)}{2h}$$\n",
    "\n",
    "Where the error term can be expressed as $Ch^2$. We now know that the true value for a derivative $T_v$ can be approximated as follows: \n",
    "\n",
    "$$T_v = D(f, x, h) + Ch^2$$\n",
    "\n",
    "When we halve the step size to $h/2$, we obtain the following: \n",
    "\n",
    "$$T_v = D(f, x, \\frac{h}{2}) + C\\frac{h^2}{4}$$\n",
    "\n",
    "Now, we can solve the above system of equationms for $T_v$ by subtracting out the term $C$:\n",
    "\n",
    "$$\n",
    "\\begin{align*}\n",
    "&T_v = D(f, x, h) + Ch^2\\\\   \n",
    "-\\phantom{y=}&&\\\\    \n",
    "&4T_v = 4D(f, x, \\frac{h}{2}) + Ch^2\\\\\\hline   \n",
    "&-3T_v = D(f, x, h) - 4D(f, x, \\frac{h}{2})\n",
    "\\end{align*}\n",
    "$$\n",
    "\n",
    "Simplifying: \n",
    "\n",
    "$$T_v = \\frac{4D(f, x, \\frac{h}{2}) - D(f, x, h)}{3}$$\n",
    "\n",
    "Now, we have again solved for the value $T_v$, however, we now avoid the subtractive cancellation error, as $4D(f, x, \\frac{h}{2})$ and $F(f, x, h)$ are not so close to each other any more.\n",
    "\n",
    "In fact, we see that the formula for each entry is as follows: \n",
    "\n",
    "$$R_{i, n} = \\frac{2^n R_{i, n-1} - R_{i-1, n-1}}{2^n - 1}$$\n",
    "\n",
    "If we think of these entries as being a matrix, we notice that each entry is simply a linear combination of two other entries. Using this we can write a function which allows us to calculate the first column of entries, and then successively calculate the next columns in the matrix.\n",
    "\n",
    "The only limit on how many times this can be repeated is how small $h$ can be represented on the machine. Below we calculate how many times this could be repeated (the results are as calculated on my machine). "
   ]
  },
  {
   "cell_type": "markdown",
   "metadata": {},
   "source": [
    "## Methods\n",
    "\n"
   ]
  },
  {
   "cell_type": "code",
   "execution_count": null,
   "metadata": {},
   "outputs": [],
   "source": []
  },
  {
   "cell_type": "code",
   "execution_count": 1,
   "metadata": {},
   "outputs": [
    {
     "name": "stdout",
     "output_type": "stream",
     "text": [
      "Numerical differentiation of Func=-0.1*x**4-0.15*x**3-0.5*x**2-0.25*x+1.2 at x=0.5: -0.91250000000000530687\n",
      "Acceptable H value diff(2**cos(pi+sin(x)) at x=pi/2 is equal to = 0.16849558398154249050\n",
      "Richardson dif with acceptable H value diff(2**cos(pi+sin(x)) at x=pi/2 is equal to = -0.86602540378445724834\n",
      "Richardson dif with abusurdly small H diff(2**cos(pi+sin(x)) at x=pi/2 is equal to = 0.00000000000000000000\n"
     ]
    }
   ],
   "source": [
    "from math import *\n",
    "def zeros(n,m): # zeros matrix \n",
    "    Z=[]\n",
    "    for i in range(n):\n",
    "        Z.append([0]*m)\n",
    "    return Z\n",
    "\n",
    "def D(Func,a,h):    \n",
    "    return (Func(a+h)-Func(a-h))/(2*h)\n",
    "def Dwithsmallh(Func,a,h):   \n",
    "    h = h * 0.000000000000000001\n",
    "    return (Func(a+h)-Func(a-h))/(2*h)\n",
    "\n",
    "def Richardson_dif(func,a):\n",
    "    '''Richardson extrapolation method for numerical calculation of first derivative '''\n",
    "    k=9 # change the order of approximation\n",
    "    L=zeros(k,k)\n",
    "    L2=zeros(k,k)\n",
    "    for I in range(k):\n",
    "        L[I][0]=D(func,a,1/(2**(I+1)))\n",
    "        #L2[I][0]=Dwithsmallh(func,a,1/(2**(I+1)))\n",
    "    for j in range(1,k):\n",
    "        for i in range(k-j):\n",
    "            L[i][j]=((4**(j))*L[i+1][j-1]-L[i][j-1])/(4**(j)-1)\n",
    "    return L[0][k-1]\n",
    "def Richardson_difh(func,a):\n",
    "    '''Richardson extrapolation method for numerical calculation of first derivative '''\n",
    "    k=9 #  change the order of approximation\n",
    "    L=zeros(k,k)\n",
    "    L2=zeros(k,k)\n",
    "    for I in range(k):\n",
    "        L[I][0]=Dwithsmallh(func,a,1/(2**(I+1)))\n",
    "    for j in range(1,k):\n",
    "        for i in range(k-j):\n",
    "            L[i][j]=((4**(j))*L[i+1][j-1]-L[i][j-1])/(4**(j)-1)\n",
    "    return L[0][k-1]\n",
    "print('Numerical differentiation of Func=-0.1*x**4-0.15*x**3-0.5*x**2-0.25*x+1.2 at x=0.5:', '%04.20f'%Richardson_dif(lambda x: -0.1*x**4-0.15*x**3-0.5*x**2-0.25*x+1.2 ,0.5))\n",
    "print('Acceptable H value diff(2**cos(pi+sin(x)) at x=pi/2 is equal to = %04.20f'%Richardson_dif(lambda x: 2**cos(pi+sin(x)),pi/3))\n",
    "print('Richardson dif with acceptable H value diff(2**cos(pi+sin(x)) at x=pi/2 is equal to = %04.20f'%Richardson_dif(lambda x: cos(x),pi/3))\n",
    "print('Richardson dif with abusurdly small H diff(2**cos(pi+sin(x)) at x=pi/2 is equal to = %04.20f'%Richardson_difh(lambda x: cos(x),pi/3))\n"
   ]
  },
  {
   "cell_type": "markdown",
   "metadata": {},
   "source": [
    "### Specifying Too Many Richardson Extrapolations\n",
    "\n",
    "Here we will attempt to break the numdifftools package by specifying the the number of richardson terms to compute when taking the derivative. It is useful to know the bounds of how many richardson extrapolation terms can be computed, as the more terms you can compute, the higher your accuracy. The limit on the number of terms that can be comptued is how small machine epsilon is. Below we can see some code to calculate two 8th order derivatives of the function $x^{10}$. The blue line is the 8th order derivative with only 2 richardson extrapolations calculated. The red line is the same 8th order derivative, but calculated with 11 richardson extrapolation terms. The plot clearly shows that as the number of richardson extrapolations gets higher that noise dominates the problem. This is likely due to inaccuracies when calculating $x^{10}$. Note that when representing floating point numbers with a large number of decimals, the representation will not be accurate. Therefore, this inaccuracy is amplified by the process of Richardson extrapolation, as calculating more and more terms will successively make h smaller and smaller. Doing so introduces more error into the original calculation of $f(x)$, which becomes amplified as linear combinations are taken in order to perform Richardson extrapolation. \n",
    "\n",
    "Note that in the plot below, the derivative seems to behave close to zero, as linear combinations of terms close to zero will tend to be zero. However, once the terms become larger than 1, amplification of the error becomes extremely large due to taking linear combinations of inaccurate numbers.\n",
    "\n",
    "For the end user of numdifftools this becomes important, as numdifftools may not be a good choice when extremely accurate results are needed or when a large number of richardson extrapolations are needed. "
   ]
  },
  {
   "cell_type": "code",
   "execution_count": 43,
   "metadata": {},
   "outputs": [
    {
     "data": {
      "text/plain": [
       "<matplotlib.legend.Legend at 0x7fe4906a94f0>"
      ]
     },
     "execution_count": 43,
     "metadata": {},
     "output_type": "execute_result"
    },
    {
     "data": {
      "image/png": "[encoded data removed]",
      "text/plain": [
       "<Figure size 432x288 with 1 Axes>"
      ]
     },
     "metadata": {
      "needs_background": "light"
     },
     "output_type": "display_data"
    }
   ],
   "source": [
    "x = np.linspace(-1, 1, 100)\n",
    "\n",
    "#Define some function to take the derivative of\n",
    "def f(x):\n",
    "    return x**10\n",
    "\n",
    "# Perform the derivative with 2 richardson extrapolation terms\n",
    "df = nd.Derivative(f, n=8)\n",
    "df.richardson_terms = 2 # Specify the default number of richardson extrapolation terms\n",
    "y = df(x)\n",
    "h = plt.plot(x, y, color='blue', label='2 Repetitions')\n",
    "\n",
    "# Perform the derivative with 11 richardson extrapolations\n",
    "# This will force too many extrapolations to occur, meaning that h will be less than machine epsilon\n",
    "df = nd.Derivative(f, n=8)\n",
    "df.richardson_terms = 11 # Specify 11 richardson extrapolation terms\n",
    "y = df(x)\n",
    "h = plt.plot(x, y, color='red', label=\"30 Repetitions\")\n",
    "    \n",
    "plt.title(\"8th Order Derivative of x^10\")\n",
    "plt.xlabel(\"x\")\n",
    "plt.ylabel(\"y\")\n",
    "plt.legend(loc='center left', bbox_to_anchor=(1, 0.5))"
   ]
  },
  {
   "cell_type": "code",
   "execution_count": 24,
   "metadata": {},
   "outputs": [
    {
     "data": {
      "text/plain": [
       "Text(0,0.5,'y')"
      ]
     },
     "execution_count": 24,
     "metadata": {},
     "output_type": "execute_result"
    },
    {
     "data": {
      "image/png": "[encoded data removed]",
      "text/plain": [
       "<Figure size 432x288 with 1 Axes>"
      ]
     },
     "metadata": {},
     "output_type": "display_data"
    }
   ],
   "source": [
    "#12th order derivative of sin(1/x)\n",
    "def highdev(x):\n",
    "    return (\n",
    "        (np.sin(1/x)/x**24)-(132*np.cos(1/x)/x**23)-(7260*np.sin(1/x)/x**22)+(217800*np.cos(1/x)/x**21)+(3920400*np.sin(1/x)/x**20)\n",
    "        -(43908480*np.cos(1/x)/x**19)-(307359360*np.sin(1/x)/x**18)+(1317254400*np.cos(1/x)/x**17)+(3293136000*np.sin(1/x)/x**16)\n",
    "        -(439084800*np.cos(1/x)/x**15)-(2634508800*np.sin(1/x)/x**14)+(479001600*np.cos(1/x)/x**13)\n",
    "        )\n",
    "highdev(1)\n",
    "def f(x):\n",
    "    return np.sin(1/x)\n",
    "df = nd.Derivative(f,12)\n",
    "error=[0,0,0,0,0]\n",
    "for x in range(5):\n",
    "    error[x]=df(x+1)-highdev(x+1)\n",
    "error\n",
    "'''\n",
    "xi = np.linspace(-0.01, 0.01, 100)\n",
    "\n",
    "y = df(xi)\n",
    "h = plt.plot(xi, y, color='red')\n",
    "y = highdev(xi)\n",
    "h = plt.plot(xi, y, color='blue')\n",
    "plt.title(\"Derivatives of Sin(1/x)\")\n",
    "plt.xlabel(\"x\")\n",
    "plt.ylabel(\"y\")\n",
    "'''\n",
    "\n",
    "xi = np.linspace(-0.0001, 0.0001, 50)\n",
    "\n",
    "y = df(xi)\n",
    "h = plt.plot(xi, y, color='red')\n",
    "y = highdev(xi)\n",
    "h = plt.plot(xi, y, color='blue')\n",
    "plt.title(\"Derivatives of Sin(1/x)\")\n",
    "plt.xlabel(\"x\")\n",
    "plt.ylabel(\"y\")"
   ]
  },
  {
   "cell_type": "markdown",
   "metadata": {},
   "source": [
    "Here we can see that the actual derivative has some features nearby to zero. However the derivative apporiximation made by numdifftools does not have any non-zero features nearby to zero. This example and the one below show that the increasing variance as within the area doesn't allow the estimator to close in on the solution. This is especially bad in the case of sin(1/x) because the varience heads towards infinity.\n",
    "\n",
    "In the comparison between the actual 12th derivative of sin(1/x) and the richardson approximation, we can see that except for the closest point to 0 they roughly agree, this is true even as you change the scale of the graph. Because the richardson approximation around zero assumes it is a flat line, which is not the case.\n",
    "\n",
    "In the second test we can see that 1/x for every triginometric function fails for the same reason. Although its not obvious if cos and sin fail in the same way. This is a special case for this varience, as sin(x) and cos(x) and others as seen can do very high level derivatives without falling into the trap of assuming they are roughly flat when they are not. This shows that this method is very close to newtonian approximation methods for derivatives, and therefor shares many of the same limiations."
   ]
  },
  {
   "cell_type": "code",
   "execution_count": 45,
   "metadata": {},
   "outputs": [
    {
     "data": {
      "text/plain": [
       "Text(0,0.5,'y')"
      ]
     },
     "execution_count": 45,
     "metadata": {},
     "output_type": "execute_result"
    },
    {
     "data": {
      "image/png": "[encoded data removed]",
      "text/plain": [
       "<Figure size 432x288 with 1 Axes>"
      ]
     },
     "metadata": {},
     "output_type": "display_data"
    }
   ],
   "source": [
    "def oversin(x):\n",
    "    return np.sin(1/x)\n",
    "    #return np.sin(x)\n",
    "\n",
    "def overcos(x):\n",
    "    return np.cos(1/x)\n",
    "    #return np.cos(x)\n",
    "\n",
    "def div5sin(x):\n",
    "    return ((20*x*(12*x**2-1)*np.sin(1/x))+(-120*x**4+120*x**2-1)*np.cos(1/x))/x**10\n",
    "\n",
    "\n",
    "xi = np.linspace(-np.pi, np.pi, 50)\n",
    "'''\n",
    "df = nd.Derivative(oversin,5)\n",
    "dg = nd.Derivative(overcos,5)\n",
    "dh = nd.Derivative(overcos,6)\n",
    "y = df(xi)\n",
    "h = plt.plot(xi, y, color='red')\n",
    "y = dg(xi)\n",
    "h = plt.plot(xi, y, color='blue')\n",
    "\n",
    "y = dh(xi)\n",
    "h = plt.plot(xi, y, color='green')\n",
    "'''\n",
    "for x in range(6):\n",
    "    dg = nd.Derivative(overcos,2+x)\n",
    "    y=dg(xi)\n",
    "    h = plt.plot(xi,y)\n",
    "plt.title(\"Derivatives of Trigs(1/x)\")\n",
    "plt.xlabel(\"x\")\n",
    "plt.ylabel(\"y\")"
   ]
  },
  {
   "cell_type": "markdown",
   "metadata": {},
   "source": [
    "### Breaking Richardson Extrapolation using Decimals Powers\n",
    "\n",
    "In this method, we will attempt to break the numdifftools package by using decimal powers in the derivative function. As decimal powers are well-known and explored in the derivative and integration fields using the power rule, which contains the domain of fractional powers, we attempted to apply this to nummdifftool's packages.\n",
    "\n",
    "The derivatives of any power in the decimals (aka 0.1, 1/10, np.sqrt) returns the same exact 9 runtime errors and warnings (for a total of 21 errors/warnings) from the numdifftools package with the code below. The domain of the numdifftools seems to be that of whole numbers and does not work with fractions or decimals in the power.\n",
    "\n",
    "Even for the first derivative of any of these functions (which are well known and easily calculated by hand, the numdifftools package breaks (albiet not with legit values with errors based off of h like the previous methods)."
   ]
  },
  {
   "cell_type": "code",
   "execution_count": 3,
   "metadata": {},
   "outputs": [
    {
     "name": "stderr",
     "output_type": "stream",
     "text": [
      "/opt/conda/lib/python3.7/site-packages/numdifftools/core.py:325: RuntimeWarning: invalid value encountered in sqrt\n",
      "  return fun(x, *args, **kwds)\n",
      "/opt/conda/lib/python3.7/site-packages/numdifftools/extrapolation.py:489: RuntimeWarning: invalid value encountered in less_equal\n",
      "  converged = err <= tol\n",
      "/opt/conda/lib/python3.7/site-packages/numpy/lib/nanfunctions.py:1116: RuntimeWarning: All-NaN slice encountered\n",
      "  overwrite_input=overwrite_input)\n",
      "/opt/conda/lib/python3.7/site-packages/numpy/lib/nanfunctions.py:1392: RuntimeWarning: All-NaN slice encountered\n",
      "  overwrite_input, interpolation)\n",
      "/opt/conda/lib/python3.7/site-packages/numdifftools/limits.py:173: RuntimeWarning: invalid value encountered in less\n",
      "  outliers = (((abs(der) < (a_median / trim_fact)) +\n",
      "/opt/conda/lib/python3.7/site-packages/numdifftools/limits.py:174: RuntimeWarning: invalid value encountered in greater\n",
      "  (abs(der) > (a_median * trim_fact))) * (a_median > 1e-8) +\n",
      "/opt/conda/lib/python3.7/site-packages/numdifftools/limits.py:175: RuntimeWarning: invalid value encountered in less\n",
      "  ((der < p25 - 1.5 * iqr) + (p75 + 1.5 * iqr < der)))\n",
      "/opt/conda/lib/python3.7/site-packages/numdifftools/limits.py:149: UserWarning: All-NaN slice encountered\n",
      "  warnings.warn(str(msg))\n",
      "/opt/conda/lib/python3.7/site-packages/ipykernel_launcher.py:7: RuntimeWarning: invalid value encountered in power\n",
      "  import sys\n",
      "/opt/conda/lib/python3.7/site-packages/numdifftools/extrapolation.py:489: RuntimeWarning: invalid value encountered in less_equal\n",
      "  converged = err <= tol\n",
      "/opt/conda/lib/python3.7/site-packages/numpy/lib/nanfunctions.py:1116: RuntimeWarning: All-NaN slice encountered\n",
      "  overwrite_input=overwrite_input)\n",
      "/opt/conda/lib/python3.7/site-packages/numpy/lib/nanfunctions.py:1392: RuntimeWarning: All-NaN slice encountered\n",
      "  overwrite_input, interpolation)\n",
      "/opt/conda/lib/python3.7/site-packages/numdifftools/limits.py:173: RuntimeWarning: invalid value encountered in less\n",
      "  outliers = (((abs(der) < (a_median / trim_fact)) +\n",
      "/opt/conda/lib/python3.7/site-packages/numdifftools/limits.py:174: RuntimeWarning: invalid value encountered in greater\n",
      "  (abs(der) > (a_median * trim_fact))) * (a_median > 1e-8) +\n",
      "/opt/conda/lib/python3.7/site-packages/numdifftools/limits.py:175: RuntimeWarning: invalid value encountered in less\n",
      "  ((der < p25 - 1.5 * iqr) + (p75 + 1.5 * iqr < der)))\n",
      "/opt/conda/lib/python3.7/site-packages/numdifftools/limits.py:149: UserWarning: All-NaN slice encountered\n",
      "  warnings.warn(str(msg))\n",
      "/opt/conda/lib/python3.7/site-packages/ipykernel_launcher.py:10: RuntimeWarning: invalid value encountered in power\n",
      "  # Remove the CWD from sys.path while we load stuff.\n",
      "/opt/conda/lib/python3.7/site-packages/numdifftools/extrapolation.py:489: RuntimeWarning: invalid value encountered in less_equal\n",
      "  converged = err <= tol\n",
      "/opt/conda/lib/python3.7/site-packages/numpy/lib/nanfunctions.py:1116: RuntimeWarning: All-NaN slice encountered\n",
      "  overwrite_input=overwrite_input)\n",
      "/opt/conda/lib/python3.7/site-packages/numpy/lib/nanfunctions.py:1392: RuntimeWarning: All-NaN slice encountered\n",
      "  overwrite_input, interpolation)\n",
      "/opt/conda/lib/python3.7/site-packages/numdifftools/limits.py:173: RuntimeWarning: invalid value encountered in less\n",
      "  outliers = (((abs(der) < (a_median / trim_fact)) +\n",
      "/opt/conda/lib/python3.7/site-packages/numdifftools/limits.py:174: RuntimeWarning: invalid value encountered in greater\n",
      "  (abs(der) > (a_median * trim_fact))) * (a_median > 1e-8) +\n",
      "/opt/conda/lib/python3.7/site-packages/numdifftools/limits.py:175: RuntimeWarning: invalid value encountered in less\n",
      "  ((der < p25 - 1.5 * iqr) + (p75 + 1.5 * iqr < der)))\n",
      "/opt/conda/lib/python3.7/site-packages/numdifftools/limits.py:149: UserWarning: All-NaN slice encountered\n",
      "  warnings.warn(str(msg))\n"
     ]
    },
    {
     "data": {
      "text/plain": [
       "Text(0, 0.5, 'y')"
      ]
     },
     "execution_count": 3,
     "metadata": {},
     "output_type": "execute_result"
    },
    {
     "data": {
      "image/png": "[encoded data removed]",
      "text/plain": [
       "<Figure size 432x288 with 1 Axes>"
      ]
     },
     "metadata": {
      "needs_background": "light"
     },
     "output_type": "display_data"
    }
   ],
   "source": [
    "# Runtime warning with sqrt\n",
    "import math\n",
    "\n",
    "x = np.linspace(-1, 1, 100)\n",
    "\n",
    "def f1(x):\n",
    "    return x**(0.1)\n",
    "\n",
    "def f2(x):\n",
    "    return x**(1/10)\n",
    "\n",
    "#math.sqrt\n",
    "df = nd.Derivative(np.sqrt, n=1) # first derivative breaks\n",
    "df.richardson_terms = 1\n",
    "y = df(x)\n",
    "h = plt.plot(x, y, color='black')\n",
    "plt.title(\"Derivatives of x^(1/10)\")\n",
    "plt.xlabel(\"x\")\n",
    "plt.ylabel(\"y\")\n",
    "\n",
    "#using def f(x) = x ** (0.1)\n",
    "df = nd.Derivative(f1, n=1) # first derivative breaks\n",
    "df.richardson_terms = 1\n",
    "y = df(x)\n",
    "h = plt.plot(x, y, color='green')\n",
    "plt.title(\"Derivatives of x^(1/10)\")\n",
    "plt.xlabel(\"x\")\n",
    "plt.ylabel(\"y\")\n",
    "\n",
    "#using def f(x) = x ** (1/10)\n",
    "df = nd.Derivative(f2, n=1) # first derivative breaks\n",
    "df.richardson_terms = 1\n",
    "y = df(x)\n",
    "h = plt.plot(x, y, color='blue')\n",
    "plt.title(\"Derivatives of x^(1/10)\")\n",
    "plt.xlabel(\"x\")\n",
    "plt.ylabel(\"y\")"
   ]
  },
  {
   "cell_type": "markdown",
   "metadata": {},
   "source": [
    "## Conclusions and open questions\n",
    "\n"
   ]
  },
  {
   "cell_type": "code",
   "execution_count": null,
   "metadata": {},
   "outputs": [],
   "source": []
  }
 ],
 "metadata": {
  "kernelspec": {
   "display_name": "Python 3",
   "language": "python",
   "name": "python3"
  },
  "language_info": {
   "codemirror_mode": {
    "name": "ipython",
    "version": 3
   },
   "file_extension": ".py",
   "mimetype": "text/x-python",
   "name": "python",
   "nbconvert_exporter": "python",
   "pygments_lexer": "ipython3",
   "version": "3.6.4"
  }
 },
 "nbformat": 4,
 "nbformat_minor": 4
}
