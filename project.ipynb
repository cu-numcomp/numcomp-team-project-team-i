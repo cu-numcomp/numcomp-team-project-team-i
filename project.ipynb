{
 "cells": [
  {
   "cell_type": "markdown",
   "metadata": {},
   "source": [
    "# Project: **Name of method** in **name of software**\n",
    "\n",
    "## Group members\n",
    "* Darrien Lee\n",
    "* Peter Minwegen\n",
    "* Nicholas Palmer\n",
    "* Benji Goldstein\n",
    "\n",
    "This notebook is a blank slate for you to write in.  Feel free to include figures (don't forget to add/commit them to your repository) and examples.  You can change the kernel (from `Python 3`; see upper right) if the open source project you're writing about does not use Python.  You can write from the prompts below or delete all the cells and start fresh.  Note that Git will always contain your history.\n",
    "\n",
    "You can run shell commands:"
   ]
  },
  {
   "cell_type": "code",
   "execution_count": 3,
   "metadata": {},
   "outputs": [],
   "source": [
    "%matplotlib inline\n",
    "import numpy as np\n",
    "import matplotlib.pyplot as plt\n",
    "import numdifftools as nd"
   ]
  },
  {
   "cell_type": "code",
   "execution_count": 1,
   "metadata": {},
   "outputs": [
    {
     "name": "stdout",
     "output_type": "stream",
     "text": [
      "project.ipynb  README.md\n"
     ]
    }
   ],
   "source": [
    "! ls"
   ]
  },
  {
   "cell_type": "markdown",
   "metadata": {},
   "source": [
    "and include code snippets\n",
    "\n",
    "```c\n",
    "double square(double x) {\n",
    "    return x*x;\n",
    "}\n",
    "```\n",
    "or code cells"
   ]
  },
  {
   "cell_type": "code",
   "execution_count": 2,
   "metadata": {},
   "outputs": [
    {
     "name": "stdout",
     "output_type": "stream",
     "text": [
      "square(3) = 9\n"
     ]
    }
   ],
   "source": [
    "def square(x):\n",
    "    return x*x\n",
    "\n",
    "print(f'square(3) = {square(3)}')"
   ]
  },
  {
   "cell_type": "markdown",
   "metadata": {},
   "source": [
    "Note that some of the content for this section was used from Nicholas Palmer's individual project on Richardson Extrapolation, and that all of the content of this notebook is solely the work of the group members listed above.\n",
    "\n",
    "## Introduction\n",
    "\n",
    "Describe the objective of your study, citing prior work as appropriate (papers, websites, etc.).  There is no requirement on citation style, but please try to be consistent.\n",
    "\n",
    "The objective of the study for this project is to \"break\" the numdiftools software by violating some assumptions on the inputs for the software, as well as attempting to violate the assumptions of the Richardson Extrapolation method. In this section we will describe the Richardson Extrapolation method and how it is useful for numerical differentiation. Then in the following sections we will describe the methodology for performing these tests and studies, how that affects usability and usefulness of numdiftools for the average user, any conclusions as a result of the study, and finally any open questions at the end of the study.  \n",
    "\n",
    "Richardson extrapolation can be used to obtain high numerical accuracy by taking the linear combination of successive approximations of numerical derivatives. This method is described below: \n",
    "\n",
    "We can calculate the derivative of a function $f(x)$ by using the centered limit definition of the derivative:\n",
    "\n",
    "$$f'(x) = \\lim_{h \\rightarrow 0} \\frac{f(x + h) - f(x - h)}{2h}$$\n",
    "\n",
    "Where $h$ is the step size. This, of course, assumes that we can make $h$ arbitrarily small. However, numerically this is impossible, as computers have a limit on the range of numbers that they can represent. Therefore, using this method, we can only represent values of $h$ that are as small as $\\epsilon_{machine}$. Therefore, since we must use representable step sizes for $h$, we can rework the above definition to include an error term: \n",
    "\n",
    "$$f'(x) = \\frac{f(x + h) - f(x - h)}{2h} + O(h^2)$$\n",
    "\n",
    "From this we can see that the error term is on the order of $h^2$. From this, it must seem that when we reduce $h$ by half, we should reduce the error by a factor of 4. Let us see how this works in practice below. "
   ]
  },
  {
   "cell_type": "code",
   "execution_count": 4,
   "metadata": {},
   "outputs": [
    {
     "data": {
      "image/png": "[encoded data removed]",
      "text/plain": [
       "<Figure size 432x288 with 1 Axes>"
      ]
     },
     "metadata": {
      "needs_background": "light"
     },
     "output_type": "display_data"
    }
   ],
   "source": [
    "#Note that this code was taken from the 4/7 in class activity for illustrative purposes\n",
    "#Slight modifications were made\n",
    "def compute_errors(diff, f, fp, x=np.linspace(-4, 4)):\n",
    "    hs = np.geomspace(1e-15, 1, 16)\n",
    "    errors = [np.linalg.norm(diff(f, x, h) - fp(x), np.inf) for h in hs]\n",
    "    return hs, errors\n",
    "\n",
    "\n",
    "def diff2(f, x, h):\n",
    "    return (f(x + h) - f(x - h)) / (2*h)\n",
    "\n",
    "hs, errors = compute_errors(diff2, np.sin, np.cos)\n",
    "\n",
    "plt.loglog(hs, errors, 'o', label='num diff')\n",
    "plt.xlabel('$h$')\n",
    "plt.ylabel('max error')\n",
    "plt.ylim(1e-12, 1)\n",
    "plt.legend();"
   ]
  },
  {
   "cell_type": "markdown",
   "metadata": {},
   "source": [
    "The main reason that we see this type of behavior is due to subtractive cancellation. Subtractive cancellation is the error that is introduced by subtracting two values with finite accuracy that are very close to each other. Recall the original function for computing the derivative of a function:\n",
    "\n",
    "$$f'(x) = \\frac{f(x + h) - f(x - h)}{2h} + O(h^2)$$\n",
    "\n",
    "As $h$ gets smaller and smaller, the values of $f(x + h)$ and $f(x - h)$ successively get closer together. Because the calculation for $f(x)$ has finite accuracy, we begin to require greater and greater accuracy in our calculation of $f(x)$ to avoid this subtractive cancellation error. We can see this in action below. \n",
    "\n",
    "Suppose we want to calculate $f(x + h) - f(x)$ with 10 digits of accuracy. If $h = 0.00001$, $x = 1$, and $f(x) = sin(x)$, we need 15 digits of accuracy when calculating $sin(1.01)$, since the first 5 digits of the calculation cancel to zero. \n",
    "\n",
    "$$\\frac{sin(1.00001) - sin(1)}{0.1}$$\n",
    "\n",
    "Doing the calculations we get the following: \n",
    "\n",
    "$$\n",
    "\\begin{align*}\n",
    "&0.841476387788881\\\\   \n",
    "-\\phantom{y=}&&\\\\    \n",
    "&0.841470984807896\\\\\\hline   \n",
    "&0.000005402980985    \n",
    "\\end{align*}\n",
    "$$\n",
    "\n",
    "So, from this we can see that when $h$ get sufficiently small, we begin to get subtractive cancellation due to the finite accuracy of our calculation of $f(x)$.\n",
    "\n",
    "<hr>\n",
    "\n",
    "We can again rework the above definition to see that the error is proportional to $h^2$.\n",
    "\n",
    "$$f'(x) \\approx \\frac{f(x + h) - f(x - h)}{2h} + Ch^2$$\n",
    "\n",
    "Now we can see that the error in the above term is proportional to some constant C. For the sake of syntactical simplicity, let us define the centered differentiation of a function $f$ at a point $x$ with step size $h$ as follows: \n",
    "\n",
    "$$D(f, x, h) = \\frac{f(x + h) - f(x - h)}{2h}$$\n",
    "\n",
    "Where the error term can be expressed as $Ch^2$. We now know that the true value for a derivative $T_v$ can be approximated as follows: \n",
    "\n",
    "$$T_v = D(f, x, h) + Ch^2$$\n",
    "\n",
    "When we halve the step size to $h/2$, we obtain the following: \n",
    "\n",
    "$$T_v = D(f, x, \\frac{h}{2}) + C\\frac{h^2}{4}$$\n",
    "\n",
    "Now, we can solve the above system of equationms for $T_v$ by subtracting out the term $C$:\n",
    "\n",
    "$$\n",
    "\\begin{align*}\n",
    "&T_v = D(f, x, h) + Ch^2\\\\   \n",
    "-\\phantom{y=}&&\\\\    \n",
    "&4T_v = 4D(f, x, \\frac{h}{2}) + Ch^2\\\\\\hline   \n",
    "&-3T_v = D(f, x, h) - 4D(f, x, \\frac{h}{2})\n",
    "\\end{align*}\n",
    "$$\n",
    "\n",
    "Simplifying: \n",
    "\n",
    "$$T_v = \\frac{4D(f, x, \\frac{h}{2}) - D(f, x, h)}{3}$$\n",
    "\n",
    "Now, we have again solved for the value $T_v$, however, we now avoid the subtractive cancellation error, as $4D(f, x, \\frac{h}{2})$ and $F(f, x, h)$ are not so close to each other any more.\n",
    "\n",
    "In fact, we see that the formula for each entry is as follows: \n",
    "\n",
    "$$R_{i, n} = \\frac{2^n R_{i, n-1} - R_{i-1, n-1}}{2^n - 1}$$\n",
    "\n",
    "If we think of these entries as being a matrix, we notice that each entry is simply a linear combination of two other entries. Using this we can write a function which allows us to calculate the first column of entries, and then successively calculate the next columns in the matrix.\n",
    "\n",
    "The only limit on how many times this can be repeated is how small $h$ can be represented on the machine. Below we calculate how many times this could be repeated (the results are as calculated on my machine). "
   ]
  },
  {
   "cell_type": "markdown",
   "metadata": {},
   "source": [
    "## Methods\n",
    "\n"
   ]
  },
  {
   "cell_type": "code",
   "execution_count": null,
   "metadata": {},
   "outputs": [],
   "source": []
  },
  {
   "cell_type": "code",
   "execution_count": null,
   "metadata": {},
   "outputs": [],
   "source": []
  },
  {
   "cell_type": "code",
   "execution_count": 11,
   "metadata": {},
   "outputs": [
    {
     "data": {
      "text/plain": [
       "[-1008551026.2393295,\n",
       " 5259.420067530658,\n",
       " -109.13363150838231,\n",
       " -4.346399023253627,\n",
       " -0.28230174561749743]"
      ]
     },
     "execution_count": 11,
     "metadata": {},
     "output_type": "execute_result"
    }
   ],
   "source": [
    "#12th order derivative of sin(1/x)\n",
    "def highdev(x):\n",
    "    return (\n",
    "        (np.sin(1/x)/x**24)-(132*np.cos(1/x)/x**23)-(7260*np.sin(1/x)/x**22)+(217800*np.cos(1/x)/x**21)+(3920400*np.sin(1/x)/x**20)\n",
    "        -(43908480*np.cos(1/x)/x**19)-(307359360*np.sin(1/x)/x**18)+(1317254500*np.cos(1/x)/x**17)+(3293136000*np.sin(1/x)/x**16)\n",
    "        -(439084800*np.cos(1/x)/x**15)-(2634508800*np.sin(1/x)/x**14)+(479001600*np.cos(1/x)/x**13)\n",
    "        )\n",
    "highdev(1)\n",
    "def f(x):\n",
    "    return np.sin(1/x)\n",
    "df = nd.Derivative(f,12)\n",
    "error=[0,0,0,0,0]\n",
    "for x in range(5):\n",
    "    error[x]=df(x+1)-highdev(x+1)\n",
    "error"
   ]
  },
  {
   "cell_type": "code",
   "execution_count": null,
   "metadata": {},
   "outputs": [],
   "source": []
  },
  {
   "cell_type": "code",
   "execution_count": null,
   "metadata": {},
   "outputs": [],
   "source": []
  },
  {
   "cell_type": "code",
   "execution_count": null,
   "metadata": {},
   "outputs": [],
   "source": []
  },
  {
   "cell_type": "code",
   "execution_count": null,
   "metadata": {},
   "outputs": [],
   "source": []
  },
  {
   "cell_type": "markdown",
   "metadata": {},
   "source": [
    "## Results and interpretation\n",
    "\n"
   ]
  },
  {
   "cell_type": "markdown",
   "metadata": {},
   "source": [
    "## Conclusions and open questions\n",
    "\n"
   ]
  },
  {
   "cell_type": "code",
   "execution_count": null,
   "metadata": {},
   "outputs": [],
   "source": []
  }
 ],
 "metadata": {
  "kernelspec": {
   "display_name": "Python 3",
   "language": "python",
   "name": "python3"
  },
  "language_info": {
   "codemirror_mode": {
    "name": "ipython",
    "version": 3
   },
   "file_extension": ".py",
   "mimetype": "text/x-python",
   "name": "python",
   "nbconvert_exporter": "python",
   "pygments_lexer": "ipython3",
   "version": "3.6.4"
  }
 },
 "nbformat": 4,
 "nbformat_minor": 4
}
